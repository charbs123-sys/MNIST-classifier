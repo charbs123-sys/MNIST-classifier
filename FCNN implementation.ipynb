{
 "cells": [
  {
   "cell_type": "code",
   "execution_count": 1,
   "metadata": {},
   "outputs": [],
   "source": [
    "import numpy as np\n",
    "import pandas as pd\n",
    "import struct as st\n",
    "import math\n",
    "\n",
    "def convert_to_binary(path_images, path_labels):\n",
    "    filename = {'images' : path_images ,'labels' : path_labels}\n",
    "    train_imagesfile = open(filename['images'],'rb')\n",
    "    train_imagesfile.seek(0)\n",
    "    magic = st.unpack('>4B',train_imagesfile.read(4))\n",
    "    nImg = st.unpack('>I',train_imagesfile.read(4))[0]\n",
    "    nR = st.unpack('>I',train_imagesfile.read(4))[0]\n",
    "    nC = st.unpack('>I',train_imagesfile.read(4))[0] \n",
    "    nBytesTotal = nImg*nR*nC*1 #since each pixel data is 1 byte\n",
    "    images_array = np.asarray(st.unpack('>'+'B'*nBytesTotal,train_imagesfile.read(nBytesTotal))).reshape((nImg,nR,nC))\n",
    "    \n",
    "    # Open labels file\n",
    "    train_labelsfile = open(filename['labels'], 'rb')\n",
    "    train_labelsfile.seek(0)\n",
    "\n",
    "    # Read label metadata\n",
    "    magic = st.unpack('>4B', train_labelsfile.read(4))\n",
    "    nLabels = st.unpack('>I', train_labelsfile.read(4))[0]  # Number of labels\n",
    "\n",
    "    # Read label data\n",
    "    labels_array = np.asarray(\n",
    "        st.unpack('>' + 'B' * nLabels, train_labelsfile.read(nLabels))\n",
    "    )\n",
    "    return images_array, labels_array\n",
    "\n",
    "def normalize(X):\n",
    "    X_normalize = (X - np.min(X))/(np.max(X) - np.min(X))\n",
    "    return X_normalize\n",
    "\n",
    "\n",
    "def one_hot(a,num_classes):\n",
    "    return np.squeeze(np.eye(num_classes)[a.reshape(-1)]) "
   ]
  },
  {
   "cell_type": "code",
   "execution_count": 2,
   "metadata": {},
   "outputs": [],
   "source": [
    "images, labels = convert_to_binary('train-images.idx3-ubyte', 'train-labels.idx1-ubyte')\n",
    "\n",
    "df = pd.DataFrame(images[0])\n",
    "vector_features = pd.Series([0] * (28 * 28))\n",
    "\n",
    "X_train = images[0:50000]\n",
    "y_train = labels[0:50000]\n",
    "X_test = images[50001:]\n",
    "y_test = labels[50001:]"
   ]
  },
  {
   "cell_type": "code",
   "execution_count": 3,
   "metadata": {},
   "outputs": [],
   "source": [
    "rng = np.random.RandomState(42)\n",
    "\n",
    "weight = rng.standard_normal(size = (28 * 28))\n",
    "\n",
    "X = normalize(np.array([np.ravel(x) for x in X_train]))\n",
    "Y = np.array([one_hot(np.array(y,dtype=int),10) for y in y_train], dtype = int)\n",
    "\n",
    "X_test = normalize(np.array([np.ravel(x) for x in X_test]))\n",
    "y_test = np.array([one_hot(np.array(y,dtype=int),10) for y in y_test], dtype = int)\n",
    "\n",
    "input_size = X.shape[1]\n",
    "output_size = Y.shape[1]\n",
    "hidden_size = 1\n",
    "\n",
    "w_hidden = rng.standard_normal(size = (input_size, output_size))\n",
    "w_output = rng.standard_normal(size = (hidden_size, output_size))"
   ]
  },
  {
   "cell_type": "code",
   "execution_count": 4,
   "metadata": {},
   "outputs": [],
   "source": [
    "#define dense layer functions\n",
    "def dense_initialize(input_size, output_size):\n",
    "    #initalization\n",
    "    #output size is the number of neurons in that layer\n",
    "    weights = rng.standard_normal(size = (input_size, output_size))\n",
    "    LR = 0.1\n",
    "    bias = np.zeros(output_size)\n",
    "    return weights, LR, bias\n",
    "\n",
    "def dense_forward(input, weights, bias):\n",
    "    return np.dot(input, weights) + bias\n",
    "\n",
    "def dense_backward(weights, bias, gradient_output, input, LR):\n",
    "    gradient_input = np.dot(gradient_output, weights.T)\n",
    "    grad_weight = np.dot(input.T, gradient_output)\n",
    "    grad_bias = gradient_output.mean(axis = 0) * input.shape[0]\n",
    "    numpy_weight = np.array(grad_weight)\n",
    "    weights -= LR * numpy_weight\n",
    "    bias -= LR * grad_bias\n",
    "    return weights, bias, gradient_input"
   ]
  },
  {
   "cell_type": "code",
   "execution_count": 5,
   "metadata": {},
   "outputs": [],
   "source": [
    "#define ReLU layer functions\n",
    "def ReLU_forward(input):\n",
    "    return np.maximum(0, input)\n",
    "\n",
    "def ReLU_backward(input, grad_output):\n",
    "    return (input > 0) * grad_output"
   ]
  },
  {
   "cell_type": "code",
   "execution_count": 6,
   "metadata": {},
   "outputs": [],
   "source": [
    "#loss and loss gradient functions\n",
    "def softmax_crossentropy_with_logits(logits, reference_answers):\n",
    "    # Compute crossentropy from logits[batch,n_classes] and ids of correct answers             \n",
    "    logits_for_answers = logits[np.arange(len(logits)), reference_answers]\n",
    "    xentropy = - logits_for_answers + np.log(np.sum(np.exp(logits), axis=-1))    \n",
    "    return xentropy\n",
    "\n",
    "\n",
    "def grad_softmax_crossentropy_with_logits(logits, y_labels):\n",
    "    # Compute crossentropy gradient from logits[batch,n_classes] and ids of correct answers\n",
    "    ones_for_answers = np.zeros_like(logits)\n",
    "    ones_for_answers[np.arange(len(logits)), y_labels] = 1    \n",
    "    softmax = np.exp(logits) / np.exp(logits).sum(axis=-1,keepdims=True)    \n",
    "    return (- ones_for_answers + softmax) / logits.shape[0]"
   ]
  },
  {
   "cell_type": "code",
   "execution_count": 7,
   "metadata": {},
   "outputs": [],
   "source": [
    "#Train the network\n",
    "def train_network(epochs, X_train, y_train, input_size, output_size,batches = 32, layers = 3):\n",
    "    weights_hidden1, LR1, bias1 = dense_initialize(input_size, 100)\n",
    "    weights_hidden2, LR2, bias2 = dense_initialize(100, output_size)\n",
    "    train_log = []\n",
    "    for epoch in range(epochs):\n",
    "        for i in range(0, X_train.shape[0], batches):\n",
    "            x_batch = np.array([x.flatten() for x in X[i:i + batches]])\n",
    "            y_batch = np.array([y for y in y_train[i:i+batches]])\n",
    "            weights_hidden1, weights_hidden2, bias1, bias2, mean_loss = train_batch(x_batch, y_batch, 3, weights_hidden1, weights_hidden2, bias1, bias2, LR1, LR2)\n",
    "        train_log.append(mean_loss)\n",
    "        print(f\"mean_loss = {mean_loss}\")\n",
    "    return weights_hidden1, weights_hidden2, bias1, bias2, mean_loss\n",
    "\n",
    "\n",
    "def train_batch(x_batch, y_batch, layers, weights1, weights2, bias1, bias2, LR1, LR2):\n",
    "    activations = []\n",
    "    input = x_batch\n",
    "\n",
    "    #apply forward propogation to each layer\n",
    "    for i in range(layers):\n",
    "        if i == 0:\n",
    "            activations.append([dense_forward(input, weights1, bias1)])\n",
    "        elif i == 2:\n",
    "            activations.append([dense_forward(input, weights2, bias2)])\n",
    "        else:\n",
    "            activations.append([ReLU_forward(input)])\n",
    "        input = activations[-1]\n",
    "        input = np.array(input).squeeze()\n",
    "\n",
    "    layer_inputs = [x_batch] + activations\n",
    "    logits = activations[-1]\n",
    "    as_numpy = np.array(logits)\n",
    "    as_numpy = as_numpy.squeeze()\n",
    "    logits = as_numpy\n",
    "    y_hat = y_batch.argmax(axis = 1)\n",
    "    loss = softmax_crossentropy_with_logits(logits, y_hat)\n",
    "    grad_loss = grad_softmax_crossentropy_with_logits(logits, y_hat)\n",
    "\n",
    "    #back propogation\n",
    "    for layer_index in range(layers)[::-1]:\n",
    "        to_array  = np.array(layer_inputs[layer_index])\n",
    "        to_array = to_array.squeeze()\n",
    "        if layer_index == 2:\n",
    "            weights2, bias2, grad_loss = dense_backward(weights2, bias2, grad_loss, to_array, LR2)\n",
    "        elif layer_index == 1:\n",
    "            grad_loss = ReLU_backward(to_array, grad_loss)\n",
    "        elif layer_index == 0:\n",
    "            weights1, bias1, grad_loss = dense_backward(weights1, bias1, grad_loss, to_array, LR1)\n",
    "   \n",
    "    return weights1, weights2, bias1, bias2, np.mean(loss)"
   ]
  },
  {
   "cell_type": "code",
   "execution_count": 8,
   "metadata": {},
   "outputs": [
    {
     "name": "stdout",
     "output_type": "stream",
     "text": [
      "mean_loss = 1.335486554735048\n",
      "mean_loss = 0.7007404729181874\n",
      "mean_loss = 0.4839654754623377\n",
      "mean_loss = 0.37237218732286076\n",
      "mean_loss = 0.3056767468694743\n",
      "mean_loss = 0.28084159108264506\n",
      "mean_loss = 0.2629965147484114\n",
      "mean_loss = 0.2518721463053924\n",
      "mean_loss = 0.23033297504994904\n",
      "mean_loss = 0.21660359719851804\n"
     ]
    }
   ],
   "source": [
    "weights_hidden1, weights_hidden2, bias1, bias2, mean_loss = train_network(10, X, Y, input_size, output_size)"
   ]
  },
  {
   "cell_type": "code",
   "execution_count": 9,
   "metadata": {},
   "outputs": [
    {
     "name": "stdout",
     "output_type": "stream",
     "text": [
      "(9999, 784)\n"
     ]
    }
   ],
   "source": [
    "print(X_test.shape)"
   ]
  },
  {
   "cell_type": "code",
   "execution_count": 10,
   "metadata": {},
   "outputs": [
    {
     "name": "stdout",
     "output_type": "stream",
     "text": [
      "0.0\n"
     ]
    },
    {
     "name": "stderr",
     "output_type": "stream",
     "text": [
      "C:\\Users\\User\\AppData\\Local\\Temp\\ipykernel_10180\\3407503707.py:11: DeprecationWarning: elementwise comparison failed; this will raise an error in the future.\n",
      "  accuracy = np.mean(predictions == y_test)\n"
     ]
    }
   ],
   "source": [
    "#Predicting labels\n",
    "\n",
    "def prediction(X_test, weights1, weights2, bias1, bias2):\n",
    "    first_layer = dense_forward(X_test, weights1, bias1)\n",
    "    second_layer = ReLU_forward(first_layer)\n",
    "    third_layer = dense_forward(second_layer, weights2, bias2)\n",
    "    return third_layer.argmax(axis = 1)\n",
    "    \n",
    "predictions = prediction(X_test, weights_hidden1, weights_hidden2, bias1, bias2)\n",
    "predictions = np.array(predictions)\n",
    "accuracy = np.mean(predictions == y_test)\n",
    "print(accuracy)"
   ]
  }
 ],
 "metadata": {
  "kernelspec": {
   "display_name": "base",
   "language": "python",
   "name": "python3"
  },
  "language_info": {
   "codemirror_mode": {
    "name": "ipython",
    "version": 3
   },
   "file_extension": ".py",
   "mimetype": "text/x-python",
   "name": "python",
   "nbconvert_exporter": "python",
   "pygments_lexer": "ipython3",
   "version": "3.11.5"
  }
 },
 "nbformat": 4,
 "nbformat_minor": 2
}
