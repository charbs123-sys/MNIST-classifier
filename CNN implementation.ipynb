{
 "cells": [
  {
   "cell_type": "code",
   "execution_count": 28,
   "metadata": {},
   "outputs": [],
   "source": [
    "import numpy as np\n",
    "import pandas as pd\n",
    "import struct as st\n",
    "from scipy.signal import convolve2d\n",
    "\n",
    "def convert_to_binary(path_images, path_labels):\n",
    "    filename = {'images' : path_images ,'labels' : path_labels}\n",
    "    train_imagesfile = open(filename['images'],'rb')\n",
    "    train_imagesfile.seek(0)\n",
    "    magic = st.unpack('>4B',train_imagesfile.read(4))\n",
    "    nImg = st.unpack('>I',train_imagesfile.read(4))[0]\n",
    "    nR = st.unpack('>I',train_imagesfile.read(4))[0]\n",
    "    nC = st.unpack('>I',train_imagesfile.read(4))[0] \n",
    "    nBytesTotal = nImg*nR*nC*1 #since each pixel data is 1 byte\n",
    "    images_array = np.asarray(st.unpack('>'+'B'*nBytesTotal,train_imagesfile.read(nBytesTotal))).reshape((nImg,nR,nC))\n",
    "    \n",
    "    # Open labels file\n",
    "    train_labelsfile = open(filename['labels'], 'rb')\n",
    "    train_labelsfile.seek(0)\n",
    "\n",
    "    # Read label metadata\n",
    "    magic = st.unpack('>4B', train_labelsfile.read(4))\n",
    "    nLabels = st.unpack('>I', train_labelsfile.read(4))[0]  # Number of labels\n",
    "\n",
    "    # Read label data\n",
    "    labels_array = np.asarray(\n",
    "        st.unpack('>' + 'B' * nLabels, train_labelsfile.read(nLabels))\n",
    "    )\n",
    "    return images_array, labels_array\n",
    "\n",
    "def normalize(X):\n",
    "    X_normalize = (X - np.min(X))/(np.max(X) - np.min(X))\n",
    "    return X_normalize\n",
    "\n",
    "\n",
    "def one_hot(a,num_classes):\n",
    "    return np.squeeze(np.eye(num_classes)[a.reshape(-1)]) "
   ]
  },
  {
   "cell_type": "code",
   "execution_count": 2,
   "metadata": {},
   "outputs": [],
   "source": [
    "images, labels = convert_to_binary('train-images.idx3-ubyte', 'train-labels.idx1-ubyte')\n",
    "\n",
    "df = pd.DataFrame(images[0])\n",
    "vector_features = pd.Series([0] * (28 * 28))\n",
    "\n",
    "X_train = images[0:50000]\n",
    "y_train = labels[0:50000]\n",
    "X_test = images[50001:]\n",
    "y_test = labels[50001:]"
   ]
  },
  {
   "cell_type": "code",
   "execution_count": 54,
   "metadata": {},
   "outputs": [],
   "source": [
    "#Make arbitrary weight matrix\n",
    "rng = np.random.RandomState(42)\n",
    "weight_mat = rng.standard_normal(size = (30,40))\n",
    "weight_mat = weight_mat[::-1,::-1]\n",
    "single_example = np.array(X_train[0])\n",
    "#may implement this manually later on\n",
    "convolution = convolve2d(single_example, weight_mat,mode = 'valid')"
   ]
  },
  {
   "cell_type": "code",
   "execution_count": 55,
   "metadata": {},
   "outputs": [
    {
     "name": "stdout",
     "output_type": "stream",
     "text": [
      "(3, 13)\n",
      "(30, 40)\n",
      "(28, 28)\n"
     ]
    }
   ],
   "source": [
    "print(convolution.shape)\n",
    "print(weight_mat.shape)\n",
    "print(single_example.shape)"
   ]
  },
  {
   "cell_type": "code",
   "execution_count": 57,
   "metadata": {},
   "outputs": [
    {
     "name": "stdout",
     "output_type": "stream",
     "text": [
      "[[19 25]\n",
      " [37 43]]\n"
     ]
    }
   ],
   "source": [
    "input_1 = np.array([[0,1,2],[3,4,5],[6,7,8]])\n",
    "kernel = np.array([[0,1],[2,3]])\n",
    "kernel = kernel[::-1,::-1]\n",
    "convoled  = convolve2d(kernel, input_1, mode = 'valid')\n",
    "print(convoled)"
   ]
  },
  {
   "cell_type": "code",
   "execution_count": 48,
   "metadata": {},
   "outputs": [
    {
     "name": "stdout",
     "output_type": "stream",
     "text": [
      "[[5]]\n"
     ]
    }
   ],
   "source": [
    "#define convolution layer\n",
    "def convolution_forward(kernel, input):\n",
    "    kernel = kernel[::-1,::-1]\n",
    "    return convolve2d(kernel, input, mode = 'valid')"
   ]
  },
  {
   "cell_type": "code",
   "execution_count": null,
   "metadata": {},
   "outputs": [],
   "source": [
    "#define ReLU layer functions\n",
    "def ReLU_forward(input):\n",
    "    return np.maximum(0, input)\n",
    "\n",
    "def ReLU_backward(input, grad_output):\n",
    "    return (input > 0) * grad_output"
   ]
  },
  {
   "cell_type": "code",
   "execution_count": 64,
   "metadata": {},
   "outputs": [],
   "source": [
    "#define pooling layer to ensure NN is invariant\n",
    "def two_x_two_max_pooling(filter, stride = 1):\n",
    "    final_mat = np.full(shape=(filter.shape[0], filter.shape[1]), fill_value=np.nan)\n",
    "    for i in range(0,filter.shape[0], stride + 1):\n",
    "        for j in range(0,filter.shape[1], stride + 1):\n",
    "            slice = filter[i:i+2,j:j+2]\n",
    "            final_mat[i,j] = slice.max()\n",
    "    return final_mat\n",
    "            "
   ]
  },
  {
   "cell_type": "code",
   "execution_count": 80,
   "metadata": {},
   "outputs": [
    {
     "name": "stdout",
     "output_type": "stream",
     "text": [
      "[[ 7.  9. 10.]\n",
      " [12. 14. 15.]]\n"
     ]
    }
   ],
   "source": [
    "filter = np.array([[1,2,3,4,5],[6,7,8,9,10],[11,12,13,14,15]])\n",
    "final_mat = two_x_two_max_pooling(filter)\n",
    "rows = ~np.isnan(final_mat).all(axis=1)\n",
    "cols = ~np.isnan(final_mat).all(axis=0)\n",
    "print(final_mat[rows][:,cols])"
   ]
  },
  {
   "cell_type": "code",
   "execution_count": null,
   "metadata": {},
   "outputs": [],
   "source": [
    "#for final layer we want to pass into a fully connected layer to map it to a C-dimensional vector (10 dimensions) and pass into a softmax output.\n",
    "\n",
    "\n",
    "def dense_initialize(input_size, output_size = 10):\n",
    "    #initalization\n",
    "    #output size is the number of neurons in that layer\n",
    "    weights = rng.standard_normal(size = (input_size, output_size))\n",
    "    LR = 0.1\n",
    "    bias = np.zeros(output_size)\n",
    "    return weights, LR, bias\n",
    "\n",
    "def dense_forward(input, weights, bias):\n",
    "    return np.dot(input, weights) + bias\n",
    "\n",
    "def dense_backward(weights, bias, gradient_output, input, LR):\n",
    "    gradient_input = np.dot(gradient_output, weights.T)\n",
    "    grad_weight = np.dot(input.T, gradient_output)\n",
    "    grad_bias = gradient_output.mean(axis = 0) * input.shape[0]\n",
    "    numpy_weight = np.array(grad_weight)\n",
    "    weights -= LR * numpy_weight\n",
    "    bias -= LR * grad_bias\n",
    "    return weights, bias, gradient_input"
   ]
  },
  {
   "cell_type": "code",
   "execution_count": null,
   "metadata": {},
   "outputs": [],
   "source": [
    "#pass through softmax for predictions\n",
    "\n",
    "#loss and loss gradient functions\n",
    "def softmax_crossentropy_with_logits(logits, reference_answers):\n",
    "    # Compute crossentropy from logits[batch,n_classes] and ids of correct answers             \n",
    "    logits_for_answers = logits[np.arange(len(logits)), reference_answers]\n",
    "    xentropy = - logits_for_answers + np.log(np.sum(np.exp(logits), axis=-1))    \n",
    "    return xentropy\n",
    "\n",
    "\n",
    "def grad_softmax_crossentropy_with_logits(logits, y_labels):\n",
    "    # Compute crossentropy gradient from logits[batch,n_classes] and ids of correct answers\n",
    "    ones_for_answers = np.zeros_like(logits)\n",
    "    ones_for_answers[np.arange(len(logits)), y_labels] = 1    \n",
    "    softmax = np.exp(logits) / np.exp(logits).sum(axis=-1,keepdims=True)    \n",
    "    return (- ones_for_answers + softmax) / logits.shape[0]"
   ]
  }
 ],
 "metadata": {
  "kernelspec": {
   "display_name": "base",
   "language": "python",
   "name": "python3"
  },
  "language_info": {
   "codemirror_mode": {
    "name": "ipython",
    "version": 3
   },
   "file_extension": ".py",
   "mimetype": "text/x-python",
   "name": "python",
   "nbconvert_exporter": "python",
   "pygments_lexer": "ipython3",
   "version": "3.11.5"
  }
 },
 "nbformat": 4,
 "nbformat_minor": 2
}
